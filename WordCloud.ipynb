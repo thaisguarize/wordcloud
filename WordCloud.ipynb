{
  "nbformat": 4,
  "nbformat_minor": 0,
  "metadata": {
    "colab": {
      "name": "WordCloud.ipynb",
      "provenance": [],
      "collapsed_sections": [],
      "include_colab_link": true
    },
    "kernelspec": {
      "name": "python3",
      "display_name": "Python 3"
    }
  },
  "cells": [
    {
      "cell_type": "markdown",
      "metadata": {
        "id": "view-in-github",
        "colab_type": "text"
      },
      "source": [
        "<a href=\"https://colab.research.google.com/github/thaisguarize/wordcloud/blob/main/WordCloud.ipynb\" target=\"_parent\"><img src=\"https://colab.research.google.com/assets/colab-badge.svg\" alt=\"Open In Colab\"/></a>"
      ]
    },
    {
      "cell_type": "markdown",
      "metadata": {
        "id": "yox-gtPmEiYR"
      },
      "source": [
        "#Nuvem de palavras a partir de posts no Reddit"
      ]
    },
    {
      "cell_type": "code",
      "metadata": {
        "id": "_1OIPthBAqIz"
      },
      "source": [
        "import matplotlib.pyplot as plt\r\n",
        "from wordcloud import WordCloud\r\n",
        "import json\r\n",
        "import requests\r\n",
        "\r\n",
        "subreddit = 'python'    # <<<============= mudar aqui tópico de busca\r\n",
        "limit = 100\r\n",
        "timeframe = 'month'\r\n",
        "listing = 'top'\r\n",
        "  \r\n",
        "def get_reddit(subreddit,listing,limit,timeframe):\r\n",
        "    try:\r\n",
        "        base_url = f'https://www.reddit.com/r/{subreddit}/{listing}.json?limit={limit}&t={timeframe}'\r\n",
        "        request = requests.get(base_url, headers = {'User-agent': 'yourbot'})\r\n",
        "    except:\r\n",
        "        print('Um erro ocorreu!')\r\n",
        "    return request.json()\r\n",
        " \r\n",
        "def get_post_titles(r):\r\n",
        "    '''\r\n",
        "    Pega os posts\r\n",
        "    '''\r\n",
        "    posts = []\r\n",
        "    for post in r['data']['children']:\r\n",
        "        x = post['data']['title']\r\n",
        "        posts.append(x)\r\n",
        "    return posts\r\n",
        "\r\n",
        "r = get_reddit(subreddit,listing,limit,timeframe)\r\n",
        "posts = get_post_titles(r)\r\n",
        "\r\n",
        "# Nuvem de palavras\r\n",
        "wc = WordCloud(background_color=\"white\", max_words=2000, contour_width=1)\r\n",
        "\r\n",
        "# inclui as palavras na nuvem\r\n",
        "tweets_texts = ' '.join(posts) # converte lista de textos em um único texto\r\n",
        "wc.generate(tweets_texts)\r\n",
        "\r\n",
        "# mostra a nuvem de palavras\r\n",
        "plt.figure(figsize = (10,10))\r\n",
        "plt.imshow(wc); \r\n",
        "plt.axis(\"off\");"
      ],
      "execution_count": null,
      "outputs": []
    },
    {
      "cell_type": "code",
      "metadata": {
        "id": "K9SivKsiEobZ"
      },
      "source": [
        ""
      ],
      "execution_count": null,
      "outputs": []
    }
  ]
}